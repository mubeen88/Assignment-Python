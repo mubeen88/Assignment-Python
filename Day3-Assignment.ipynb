{
 "cells": [
  {
   "cell_type": "code",
   "execution_count": 1,
   "id": "fc8b9f09",
   "metadata": {},
   "outputs": [
    {
     "name": "stdout",
     "output_type": "stream",
     "text": [
      "Hello mubeen, you are 21 years old.\n"
     ]
    }
   ],
   "source": [
    "# Q1. Write a Python program that asks the user for their name and age, then prints a message like:\n",
    "#  \"Hello Alice, you are 25 years old.\"\n",
    "\n",
    "name = str(input(\"Enter your name: \"))\n",
    "age = int(input(\"Enter your age: \"))\n",
    "print(f\"Hello {name}, you are {age} years old.\")"
   ]
  },
  {
   "cell_type": "markdown",
   "id": "815f47f5",
   "metadata": {},
   "source": [
    "Q2. What is the data type returned by the input() function in Python?\n",
    "\n",
    "The input() function always returns data as a string, even if you type a number."
   ]
  },
  {
   "cell_type": "code",
   "execution_count": 2,
   "id": "2a087e6e",
   "metadata": {},
   "outputs": [
    {
     "name": "stdout",
     "output_type": "stream",
     "text": [
      "The result of adding 3 and 20 is 23.\n"
     ]
    }
   ],
   "source": [
    "# Q3. How would you get a number from the user using input() and perform addition with another number?\n",
    "\n",
    "num = int(input(\"Enter a number: \"))\n",
    "random_num = 20\n",
    "result = num + random_num\n",
    "print(f\"The result of adding {num} and {random_num} is {result}.\")\n"
   ]
  },
  {
   "cell_type": "markdown",
   "id": "4481757c",
   "metadata": {},
   "source": [
    "2. Arithmetic Operators"
   ]
  },
  {
   "cell_type": "code",
   "execution_count": 3,
   "id": "dc384aab",
   "metadata": {},
   "outputs": [
    {
     "name": "stdout",
     "output_type": "stream",
     "text": [
      "16\n"
     ]
    }
   ],
   "source": [
    "# Q4. What is the output of the following code?\n",
    "print(10 + 3 * 2)"
   ]
  },
  {
   "cell_type": "code",
   "execution_count": null,
   "id": "8b98a8b9",
   "metadata": {},
   "outputs": [
    {
     "name": "stdout",
     "output_type": "stream",
     "text": [
      "Sum: 15\n",
      "Difference: 5\n",
      "Product: 50\n",
      "Quotient: 2.0\n",
      "Remainder: 0\n"
     ]
    }
   ],
   "source": [
    "# Q5. Write a program to take two numbers and display their sum, difference, product, quotient, and remainder.\n",
    "\n",
    "num1 = int(input(\"Enter first number: \"))\n",
    "num2 = int(input(\"Enter second number: \"))\n",
    "\n",
    "sum = num1 + num2\n",
    "difference = num1 - num2\n",
    "product = num1 * num2\n",
    "quotient = num1 // num2      # integer division\n",
    "remainder = num1 % num2\n",
    "\n",
    "print(\"Sum:\", sum)\n",
    "print(\"Difference:\", difference)\n",
    "print(\"Product:\", product)\n",
    "print(\"Quotient:\", quotient)\n",
    "print(\"Remainder:\", remainder)\n"
   ]
  },
  {
   "cell_type": "markdown",
   "id": "22c8b62b",
   "metadata": {},
   "source": [
    "3. Comparison Operators"
   ]
  },
  {
   "cell_type": "markdown",
   "id": "39641bb1",
   "metadata": {},
   "source": [
    "Q6. What will the following expression return?\n",
    "\n",
    "15 > 10 and 10 < 5\n",
    "\n",
    "Ans: False\n",
    "\n",
    "15 > 10 is True\n",
    "\n",
    "10 < 5 is False\n",
    "\n",
    "True and False = False\n"
   ]
  },
  {
   "cell_type": "code",
   "execution_count": 2,
   "id": "533d0e03",
   "metadata": {},
   "outputs": [
    {
     "name": "stdout",
     "output_type": "stream",
     "text": [
      "4 is less than 6.\n"
     ]
    }
   ],
   "source": [
    "# 7.\tWrite a Python program that compares two user-input numbers and prints whether they are equal, \n",
    "# or which one is greater.\n",
    "\n",
    "num1 = int(input(\"Enter first number: \"))\n",
    "num2 = int(input(\"Enter second number: \"))\n",
    "\n",
    "if num1 > num2:\n",
    "    print(f\"{num1} is greater than {num2}.\")\n",
    "elif num1 < num2:\n",
    "    print(f\"{num1} is less than {num2}.\")\n",
    "else:\n",
    "    print(f\"{num1} is equal to {num2}.\")"
   ]
  },
  {
   "cell_type": "markdown",
   "id": "585ba46e",
   "metadata": {},
   "source": [
    "4. Assignment Operators"
   ]
  },
  {
   "cell_type": "code",
   "execution_count": null,
   "id": "226cc68d",
   "metadata": {},
   "outputs": [],
   "source": [
    "# 8.\tGiven the code below, what will be the value of a?\n",
    "a = 5  \n",
    "a += 3  \n",
    "a *= 2\n",
    "\n",
    "# a = 5\n",
    "# Now a is 5\n",
    "\n",
    "# a += 3\n",
    "# This means a = a + 3\n",
    "# So a becomes 8\n",
    "\n",
    "# a *= 2\n",
    "# This means a = a * 2\n",
    "# So a becomes 16"
   ]
  },
  {
   "cell_type": "code",
   "execution_count": 4,
   "id": "7b26f117",
   "metadata": {},
   "outputs": [
    {
     "name": "stdout",
     "output_type": "stream",
     "text": [
      "The number after increasing by 10 is: 12\n"
     ]
    }
   ],
   "source": [
    "# Q9. Write a program that increases a number by 10 using an assignment operator.\n",
    "num = int(input(\"Enter a number: \"))\n",
    "num += 10\n",
    "print(f\"The number after increasing by 10 is: {num}\")"
   ]
  },
  {
   "cell_type": "markdown",
   "id": "a0aa4968",
   "metadata": {},
   "source": [
    "5. Logical Operators"
   ]
  },
  {
   "cell_type": "code",
   "execution_count": null,
   "id": "11acbb64",
   "metadata": {},
   "outputs": [
    {
     "name": "stdout",
     "output_type": "stream",
     "text": [
      "True\n"
     ]
    }
   ],
   "source": [
    "# Q10. What is the output of this code?\n",
    "x = 5\n",
    "print(x > 3 and x < 10)\n",
    "\n",
    "# because 5 > 3 and 5 < 10 are both True"
   ]
  },
  {
   "cell_type": "code",
   "execution_count": null,
   "id": "744ba3ef",
   "metadata": {},
   "outputs": [
    {
     "name": "stdout",
     "output_type": "stream",
     "text": [
      "False\n",
      "True\n"
     ]
    }
   ],
   "source": [
    "# Q11. How does the or operator differ from the and operator?\n",
    "\n",
    "# and returns True only if both conditions are true\n",
    "# or returns True if at least one condition is true\n",
    "# Example:\n",
    "x = 5\n",
    "print(x > 3 and x > 10)\n",
    "print(x > 3 or x > 10)\n"
   ]
  },
  {
   "cell_type": "markdown",
   "id": "299d11ce",
   "metadata": {},
   "source": [
    "6. Identity Operators (is, is not)"
   ]
  },
  {
   "cell_type": "markdown",
   "id": "6fbe1d79",
   "metadata": {},
   "source": [
    "Q12. What is the difference between == and is in Python?\n",
    "\n",
    "== checks value equality\n",
    "\n",
    "is checks object identity (memory location)\n"
   ]
  },
  {
   "cell_type": "markdown",
   "id": "4cf52341",
   "metadata": {},
   "source": [
    "Q13. What will this output and why?\n",
    "\n",
    "x = [1, 2, 3]\n",
    "\n",
    "y = [1, 2, 3]\n",
    "\n",
    "print(x == y)   # True\n",
    "\n",
    "print(x is y)   # False\n",
    "\n",
    "Ans:\n",
    "\n",
    "x == y is True (values are equal)\n",
    "\n",
    "x is y is False (they are different objects in memory)\n"
   ]
  },
  {
   "cell_type": "markdown",
   "id": "51235a2d",
   "metadata": {},
   "source": [
    "7. Membership Operators (in, not in)"
   ]
  },
  {
   "cell_type": "code",
   "execution_count": null,
   "id": "5ce60c1d",
   "metadata": {},
   "outputs": [
    {
     "name": "stdout",
     "output_type": "stream",
     "text": [
      "True\n"
     ]
    }
   ],
   "source": [
    "# Q14. Write a Python program that checks if the letter 'a' is in 'banana'.\n",
    "word = \"banana\"\n",
    "print('a' in word)  # Output: True"
   ]
  },
  {
   "cell_type": "markdown",
   "id": "c1e3672e",
   "metadata": {},
   "source": [
    "8. Bitwise Operators"
   ]
  },
  {
   "cell_type": "markdown",
   "id": "28f9cbce",
   "metadata": {},
   "source": [
    "Q15. What is the result of the bitwise AND operation between 5 and 3?\n",
    "\n",
    "Ans:\n",
    "\n",
    "5 in binary: 0101\n",
    "\n",
    "3 in binary: 0011\n",
    "\n",
    "0101 & 0011 = 0001 = 1\n",
    "\n",
    "print(5 & 3)  # Output: 1\n"
   ]
  }
 ],
 "metadata": {
  "kernelspec": {
   "display_name": "Python 3",
   "language": "python",
   "name": "python3"
  },
  "language_info": {
   "codemirror_mode": {
    "name": "ipython",
    "version": 3
   },
   "file_extension": ".py",
   "mimetype": "text/x-python",
   "name": "python",
   "nbconvert_exporter": "python",
   "pygments_lexer": "ipython3",
   "version": "3.13.3"
  }
 },
 "nbformat": 4,
 "nbformat_minor": 5
}
