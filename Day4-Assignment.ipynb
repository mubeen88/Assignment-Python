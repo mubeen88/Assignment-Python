{
 "cells": [
  {
   "cell_type": "markdown",
   "id": "4c52567f",
   "metadata": {},
   "source": [
    "🔹 Conditional Statements Practice (if, elif, else)"
   ]
  },
  {
   "cell_type": "code",
   "execution_count": 1,
   "id": "1ec86758",
   "metadata": {},
   "outputs": [
    {
     "name": "stdout",
     "output_type": "stream",
     "text": [
      "The number is Positive.\n"
     ]
    }
   ],
   "source": [
    "# Q1. Write a Python program that checks if a number is positive, negative, or zero.\n",
    "\n",
    "num = float(input(\"Enter a number: \"))\n",
    "\n",
    "if num > 0:\n",
    "    print(\"The number is Positive.\")\n",
    "elif num < 0:\n",
    "    print(\"The number is Negative.\")\n",
    "else:\n",
    "    print(\"The number is Zero.\")\n"
   ]
  },
  {
   "cell_type": "code",
   "execution_count": 2,
   "id": "16536d2e",
   "metadata": {},
   "outputs": [
    {
     "name": "stdout",
     "output_type": "stream",
     "text": [
      "Adult\n"
     ]
    }
   ],
   "source": [
    "# Q2. Ask the user to enter their age. Print:\n",
    "\n",
    "age = int(input(\"Enter your age: \"))\n",
    "if age < 18:\n",
    "    print(\"Minor\")\n",
    "elif age < 60:\n",
    "    print(\"Adult\")\n",
    "else:\n",
    "    print(\"Senior\")"
   ]
  },
  {
   "cell_type": "code",
   "execution_count": 5,
   "id": "21cba771",
   "metadata": {},
   "outputs": [
    {
     "name": "stdout",
     "output_type": "stream",
     "text": [
      "The number is not divisible by both 3 and 5.\n"
     ]
    }
   ],
   "source": [
    "# Q3. Write a program to check whether a given number is divisible by 3 and 5 both.\n",
    "\n",
    "number = int(input(\"Enter a number: \"))\n",
    "if number % 3 == 0 and number % 5 == 0:\n",
    "    print(\"The number is divisible by both 3 and 5.\")\n",
    "else:\n",
    "    print(\"The number is not divisible by both 3 and 5.\")\n",
    "    "
   ]
  },
  {
   "cell_type": "code",
   "execution_count": null,
   "id": "92681450",
   "metadata": {},
   "outputs": [],
   "source": [
    "# Q4. Take a user's input for marks (0–100). Print their grade as:\n",
    "# A (≥90), B (80–89), C (70–79), D (60–69), F (<60)\n",
    "\n",
    "marks = int(input(\"Enter your marks (0-100): \"))\n",
    "if marks >= 90:\n",
    "    print(\"Grade: A\")\n",
    "elif marks >= 80:\n",
    "    print(\"Grade: B\")\n",
    "elif marks >= 70:\n",
    "    print(\"Grade: C\")\n",
    "elif marks >= 60:\n",
    "    print(\"Grade: D\")\n",
    "else:\n",
    "    print(\"Grade: F\")\n"
   ]
  },
  {
   "cell_type": "code",
   "execution_count": null,
   "id": "c756be34",
   "metadata": {},
   "outputs": [],
   "source": [
    "# Q5. Ask the user to enter a year. Print whether it is a leap year or not.\n",
    "\n",
    "year = int(input(\"Enter a year: \"))\n",
    "if (year % 400 == 0) or (year % 4 == 0 and year % 100 != 0):\n",
    "    print(year, \"is a Leap Year.\")\n",
    "else:\n",
    "    print(year, \"is NOT a Leap Year.\")"
   ]
  },
  {
   "cell_type": "markdown",
   "id": "e742a7ca",
   "metadata": {},
   "source": [
    "🔹 Nested If Statements"
   ]
  },
  {
   "cell_type": "code",
   "execution_count": null,
   "id": "ff7c3da3",
   "metadata": {},
   "outputs": [],
   "source": [
    "# Q6. Write a program to check if a number is positive and even.\n",
    "\n",
    "num = int(input(\"Enter a number: \"))\n",
    "\n",
    "if num > 0: \n",
    "    if num % 2 == 0:  \n",
    "        print(\"The number is Positive and Even.\")\n",
    "    else:\n",
    "        print(\"The number is Positive but Odd.\")\n",
    "else:\n",
    "    print(\"The number is NOT Positive.\")"
   ]
  },
  {
   "cell_type": "code",
   "execution_count": null,
   "id": "d8a57b60",
   "metadata": {},
   "outputs": [],
   "source": [
    "# Q7. Take three numbers as input and print the largest using nested if.\n",
    "\n",
    "a = int(input(\"Enter first number: \"))\n",
    "b = int(input(\"Enter second number: \"))\n",
    "c = int(input(\"Enter third number: \"))\n",
    "\n",
    "if a >= b:\n",
    "    if a >= c:\n",
    "        print(\"The largest number is:\", a)\n",
    "    else:\n",
    "        print(\"The largest number is:\", c)\n",
    "else:\n",
    "    if b >= c:\n",
    "        print(\"The largest number is:\", b)\n",
    "    else:\n",
    "        print(\"The largest number is:\", c)"
   ]
  },
  {
   "cell_type": "code",
   "execution_count": null,
   "id": "67e87f8d",
   "metadata": {},
   "outputs": [],
   "source": [
    "# Q8. Ask the user to enter a password. If the password is correct, ask for a security code.\n",
    "#  If both are correct, print “Access Granted”; else, print appropriate error messages.\n",
    "\n",
    "password = input(\"Enter your password: \")\n",
    "\n",
    "if password == \"admin123\":\n",
    "    code = input(\"Enter security code: \")\n",
    "    if code == \"4321\":\n",
    "        print(\"Access Granted\")\n",
    "    else:\n",
    "        print(\"Error: Incorrect Security Code\")\n",
    "else:\n",
    "    print(\"Error: Incorrect Password\")\n"
   ]
  },
  {
   "cell_type": "markdown",
   "id": "4d7c61ab",
   "metadata": {},
   "source": [
    "🔹 Loop Control: break, continue, pass"
   ]
  },
  {
   "cell_type": "code",
   "execution_count": null,
   "id": "8ed4bff0",
   "metadata": {},
   "outputs": [],
   "source": [
    "# Q9. Write a loop that prints numbers from 1 to 10, but stops if it reaches 6.\n",
    "\n",
    "\n",
    "for i in range(1, 11):\n",
    "    if i == 6:\n",
    "        break\n",
    "    print(i)"
   ]
  },
  {
   "cell_type": "code",
   "execution_count": null,
   "id": "aba7cae5",
   "metadata": {},
   "outputs": [],
   "source": [
    "# Q10. Write a loop that prints all numbers from 1 to 10, but skips printing 5.\n",
    "\n",
    "for i in range(1, 11):\n",
    "    if i == 5:\n",
    "        continue\n",
    "    print(i)"
   ]
  },
  {
   "cell_type": "code",
   "execution_count": null,
   "id": "09ae59d9",
   "metadata": {},
   "outputs": [],
   "source": [
    "# Q11. Use pass inside a loop that runs from 1 to 5. Explain its effect.\n",
    "\n",
    "for i in range(1, 6):\n",
    "    if i == 3:\n",
    "        pass\n",
    "    print(\"Number:\", i)\n"
   ]
  },
  {
   "cell_type": "code",
   "execution_count": null,
   "id": "cdd1fbdf",
   "metadata": {},
   "outputs": [],
   "source": [
    "# Q12. Use a while loop that keeps asking the user to enter a number. If the user enters 0, break the loop.\n",
    "\n",
    "while True:   # infinite loop\n",
    "    num = int(input(\"Enter a number (0 to stop): \"))\n",
    "    \n",
    "    if num == 0:\n",
    "        print(\"Loop stopped!\")\n",
    "        break\n",
    "    else:\n",
    "        print(\"You entered:\", num)\n"
   ]
  },
  {
   "cell_type": "code",
   "execution_count": null,
   "id": "5c64d1d1",
   "metadata": {},
   "outputs": [],
   "source": [
    "# Q13. Iterate over a list of numbers. Print only the even numbers using continue.\n",
    "\n",
    "numbers = [1, 2, 3, 4, 5, 6, 7, 8, 9, 10]\n",
    "\n",
    "for num in numbers:\n",
    "    if num % 2 != 0: \n",
    "        continue       \n",
    "    print(num)"
   ]
  },
  {
   "cell_type": "code",
   "execution_count": null,
   "id": "f874f5a4",
   "metadata": {},
   "outputs": [],
   "source": [
    "# Q14. Create a loop that prints numbers from 1 to 10. If the number is a multiple of 4, skip it using continue.\n",
    "\n",
    "for i in range(1, 11):\n",
    "    if i % 4 == 0:  \n",
    "        continue    \n",
    "    print(i)\n"
   ]
  },
  {
   "cell_type": "code",
   "execution_count": null,
   "id": "7dc0ba7c",
   "metadata": {},
   "outputs": [],
   "source": []
  },
  {
   "cell_type": "code",
   "execution_count": null,
   "id": "e7f4aa9a",
   "metadata": {},
   "outputs": [],
   "source": [
    "# Q15. Write a program using a loop that prints numbers from 1 to 20. When it reaches a number divisible by both 3 and 5, break the loop and print \"Found it!\"\n",
    "\n",
    "for i in range(1, 21):\n",
    "    if i % 3 == 0 and i % 5 == 0:   # check divisibility by 3 and 5\n",
    "        print(\"Found it!\")\n",
    "        break\n",
    "    print(i)\n"
   ]
  }
 ],
 "metadata": {
  "kernelspec": {
   "display_name": "Python 3",
   "language": "python",
   "name": "python3"
  },
  "language_info": {
   "codemirror_mode": {
    "name": "ipython",
    "version": 3
   },
   "file_extension": ".py",
   "mimetype": "text/x-python",
   "name": "python",
   "nbconvert_exporter": "python",
   "pygments_lexer": "ipython3",
   "version": "3.13.3"
  }
 },
 "nbformat": 4,
 "nbformat_minor": 5
}
