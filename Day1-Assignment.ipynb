{
 "cells": [
  {
   "cell_type": "markdown",
   "id": "a02afed1",
   "metadata": {},
   "source": [
    "Q1: What is Python and what are its key features?\n",
    "\n",
    "Python is a high-level, easy-to-read, and powerful programming language used to build websites, apps, automate tasks, and analyze data. It is known for its simple syntax and readability.\n",
    "\n",
    "Key Features\n",
    "\n",
    "Simple and easy to learn\n",
    "\n",
    "Free and open source\n",
    "\n",
    "Interpreted language\n",
    "\n",
    "Large standard library\n",
    "\n",
    "Object-oriented and functional\n",
    "\n",
    "High-level language"
   ]
  },
  {
   "cell_type": "code",
   "execution_count": null,
   "id": "781d8482",
   "metadata": {},
   "outputs": [
    {
     "name": "stdout",
     "output_type": "stream",
     "text": [
      "Mubeen\n"
     ]
    }
   ],
   "source": [
    "#Q2: Write a Python program to print your full name on the screen.\n",
    "\n",
    "print(\"Mubeen\")"
   ]
  },
  {
   "cell_type": "code",
   "execution_count": null,
   "id": "1bbbf847",
   "metadata": {},
   "outputs": [
    {
     "name": "stdout",
     "output_type": "stream",
     "text": [
      "Mubeen, Rehman!"
     ]
    }
   ],
   "source": [
    "#Q3: What is the syntax of the print() function in Python?\n",
    "\n",
    "print(\"Mubeen\", \"Rehman\", sep=\", \", end=\"!\")\n",
    "\n",
    "# objects: values to print \n",
    "# sep: separator between values\n",
    "# end: string appended after the last value\n",
    "# file: where to send the output (default is screen)\n",
    "# flush: whether to forcibly flush the stream"
   ]
  },
  {
   "cell_type": "code",
   "execution_count": 1,
   "id": "3dc24695",
   "metadata": {},
   "outputs": [
    {
     "name": "stdout",
     "output_type": "stream",
     "text": [
      "Muhammad Mubeen Rehman\n"
     ]
    }
   ],
   "source": [
    "#Q4: How do you print multiple values in a single print() call?\n",
    "\n",
    "#Use commas between values:\n",
    "print(\"Muhammad\", \"Mubeen\", \"Rehman\")"
   ]
  },
  {
   "cell_type": "markdown",
   "id": "149e5d32",
   "metadata": {},
   "source": [
    "Q5: What is a comment in Python and how is it used?\n",
    "\n",
    "A comment is a line in our code that is not executed by Python.\n",
    "\n",
    "Singl line comment starts with #\n",
    "\n",
    "For example:\n",
    "\n",
    "#My name is mubeen."
   ]
  },
  {
   "cell_type": "markdown",
   "id": "59e71d31",
   "metadata": {},
   "source": [
    "Q6: What’s the difference between single-line and multi-line comments in Python?\n",
    "\n",
    "Single-line Comment:\n",
    "\n",
    "Starts with a # symbol.\n",
    "\n",
    "Used to comment one line only.\n",
    "\n",
    "For Example:\n",
    "\n",
    "#This is a Comment.\n",
    "\n",
    "Multi-line Comment:\n",
    "\n",
    "Can be written using triple quotes: ''' ... ''' or \"\"\" ... \"\"\"\n",
    "\n",
    "For example:\n",
    "\n",
    "\"\"\"\n",
    "\n",
    "My name is Mubeen\n",
    "\n",
    "i am from toba tek singh\n",
    "\n",
    "\"\"\"\n"
   ]
  },
  {
   "cell_type": "code",
   "execution_count": null,
   "id": "fb08f037",
   "metadata": {},
   "outputs": [
    {
     "name": "stdout",
     "output_type": "stream",
     "text": [
      "8\n"
     ]
    }
   ],
   "source": [
    "#Q7: Add a comment in Python explaining the purpose of a program.\n",
    "\n",
    "# This program adds two numbers\n",
    "a = 5\n",
    "b = 3\n",
    "print(a + b)\n"
   ]
  },
  {
   "cell_type": "markdown",
   "id": "ce1397c5",
   "metadata": {},
   "source": [
    "Q8: What are escape characters in Python? Give examples.\n",
    "\n",
    "Escape characters begin with a backslash \\\n",
    "\n",
    "Examples:\n",
    "\n",
    "\\n – New line\n",
    "\n",
    "\\t – Tab\n",
    "\n",
    "\\\\ – Backslash\n",
    "\n",
    "\\\" – Double quote\n",
    "\n",
    "\\' – Single quote\n",
    "\n"
   ]
  },
  {
   "cell_type": "code",
   "execution_count": 4,
   "id": "1a46eb6a",
   "metadata": {},
   "outputs": [
    {
     "name": "stdout",
     "output_type": "stream",
     "text": [
      "He said, \"Python is great!\"\n"
     ]
    }
   ],
   "source": [
    "#Q9: Print the sentence: He said, “Python is great!” using escape characters.\n",
    "print(\"He said, \\\"Python is great!\\\"\")\n"
   ]
  },
  {
   "cell_type": "code",
   "execution_count": 5,
   "id": "44936350",
   "metadata": {},
   "outputs": [
    {
     "name": "stdout",
     "output_type": "stream",
     "text": [
      "Hello\n",
      "World!\n"
     ]
    }
   ],
   "source": [
    "#Q10: Print the following using escape characters:\n",
    "# Hello \n",
    "# World!\n",
    "\n",
    "print(\"Hello\\nWorld!\")\n"
   ]
  },
  {
   "cell_type": "code",
   "execution_count": 6,
   "id": "26dc5996",
   "metadata": {},
   "outputs": [
    {
     "name": "stdout",
     "output_type": "stream",
     "text": [
      "Name\tAge\tCity\n",
      "Ali\t25\tLahore\n"
     ]
    }
   ],
   "source": [
    "#Q11: Print a tabbed table using \\t like:\n",
    "# Name  Age   City  \n",
    "# Ali   \t 25    Lahore\n",
    "\n",
    "print(\"Name\\tAge\\tCity\")\n",
    "print(\"Ali\\t25\\tLahore\")\n"
   ]
  },
  {
   "cell_type": "code",
   "execution_count": 7,
   "id": "0a13f240",
   "metadata": {},
   "outputs": [
    {
     "name": "stdout",
     "output_type": "stream",
     "text": [
      "Hello\n",
      "World!\n"
     ]
    }
   ],
   "source": [
    "#Q12. What does \\n do in a print() statement? \n",
    "\n",
    "# \\n adds a new line — it takes the next text to the next line.\n",
    "#for example:\n",
    "print(\"Hello\\nWorld!\")"
   ]
  },
  {
   "cell_type": "code",
   "execution_count": 1,
   "id": "a1fbfe5a",
   "metadata": {},
   "outputs": [
    {
     "name": "stdout",
     "output_type": "stream",
     "text": [
      "This is a backslash: \\\n"
     ]
    }
   ],
   "source": [
    "#Q13: How do you include a backslash \\ in your output using print()?\n",
    "\n",
    "print(\"This is a backslash: \\\\\")"
   ]
  },
  {
   "cell_type": "markdown",
   "id": "79055bae",
   "metadata": {},
   "source": [
    "Q14: What happens if you forget to close a string with a quote?\n",
    "\n",
    "If you forget to close a string with a quote, Python will show an error because it doesn’t know where the string ends."
   ]
  },
  {
   "cell_type": "code",
   "execution_count": null,
   "id": "1140ec51",
   "metadata": {},
   "outputs": [
    {
     "name": "stdout",
     "output_type": "stream",
     "text": [
      "This is Python!\n",
      "Let's code.\n"
     ]
    }
   ],
   "source": [
    "# 15. Write a single-line Python program that prints: This is Python! on the first line and Let's code.\n",
    "#  on the second line using \\n \n",
    "\n",
    "print(\"This is Python!\\nLet's code.\")"
   ]
  }
 ],
 "metadata": {
  "kernelspec": {
   "display_name": "Python 3",
   "language": "python",
   "name": "python3"
  },
  "language_info": {
   "codemirror_mode": {
    "name": "ipython",
    "version": 3
   },
   "file_extension": ".py",
   "mimetype": "text/x-python",
   "name": "python",
   "nbconvert_exporter": "python",
   "pygments_lexer": "ipython3",
   "version": "3.13.3"
  }
 },
 "nbformat": 4,
 "nbformat_minor": 5
}
