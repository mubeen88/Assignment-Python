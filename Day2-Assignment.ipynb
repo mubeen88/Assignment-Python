{
 "cells": [
  {
   "cell_type": "code",
   "execution_count": 1,
   "id": "ae17d526",
   "metadata": {},
   "outputs": [
    {
     "name": "stdout",
     "output_type": "stream",
     "text": [
      "Mubeen\n"
     ]
    }
   ],
   "source": [
    "#Q1. Write a Python program to assign your name to a variable and print it.\n",
    "\n",
    "name = \"Mubeen\"\n",
    "print(name)"
   ]
  },
  {
   "cell_type": "code",
   "execution_count": 2,
   "id": "f7e706da",
   "metadata": {},
   "outputs": [
    {
     "name": "stdout",
     "output_type": "stream",
     "text": [
      "a = 10\n",
      "b = 5\n"
     ]
    }
   ],
   "source": [
    "#Q2. Swap the values of two variables a = 5 and b = 10 and print them.\n",
    "\n",
    "a = 5\n",
    "b = 10\n",
    "a, b = b, a\n",
    "\n",
    "print(\"a =\", a)\n",
    "print(\"b =\", b)\n"
   ]
  },
  {
   "cell_type": "code",
   "execution_count": null,
   "id": "ab0e8a47",
   "metadata": {},
   "outputs": [
    {
     "name": "stdout",
     "output_type": "stream",
     "text": [
      "x = 1, y = 2, z = 3\n",
      "1 2 3\n"
     ]
    }
   ],
   "source": [
    "#Q3. Assign values to three variables in a single line and print them.\n",
    "\n",
    "x, y, z = 1, 2, 3\n",
    "print(f\"x = {x}, y = {y}, z = {z}\")\n",
    "print(x, y, z)"
   ]
  },
  {
   "cell_type": "code",
   "execution_count": 6,
   "id": "c2dc6364",
   "metadata": {},
   "outputs": [
    {
     "name": "stdout",
     "output_type": "stream",
     "text": [
      "15\n"
     ]
    }
   ],
   "source": [
    "#Q4. What will be the output of the following code?\n",
    "\n",
    "x = 10\n",
    "y = x + 5\n",
    "print(y)"
   ]
  },
  {
   "cell_type": "code",
   "execution_count": 7,
   "id": "6f307762",
   "metadata": {},
   "outputs": [
    {
     "name": "stdout",
     "output_type": "stream",
     "text": [
      "My name is mubeen and I am 21 years old.\n"
     ]
    }
   ],
   "source": [
    "#Q5. Take a user's name and age as input and print them in a single line using formatted strings.\n",
    "\n",
    "name = input(\"Enter your Name: \")\n",
    "age = input(\"Enter your Age: \")\n",
    "print(f\"My name is {name} and I am {age} years old.\")\n"
   ]
  },
  {
   "cell_type": "markdown",
   "id": "8f69611f",
   "metadata": {},
   "source": [
    "Q6. What are keywords in Python? List any 5 Python keywords.\n",
    "\n",
    "Keywords are special words in Python.\n",
    "\n",
    "They are already used by Python, so you cannot use them as variable names.\n",
    "\n",
    "Examples:\n",
    "\n",
    "if, else, while, True, False"
   ]
  },
  {
   "cell_type": "markdown",
   "id": "714da56e",
   "metadata": {},
   "source": [
    "Q7. Is class, def, or for a variable name? Why or why not?\n",
    "\n",
    "No, class, def, and for are not variable names. They are Python keywords, which means they have important meanings in Python.\n",
    "\n",
    "class is used to make a class,\n",
    "\n",
    "def is used to make a function,\n",
    "\n",
    "for is used to make a loop."
   ]
  },
  {
   "cell_type": "code",
   "execution_count": 4,
   "id": "52e71bb4",
   "metadata": {},
   "outputs": [
    {
     "name": "stdout",
     "output_type": "stream",
     "text": [
      "The number is zero.\n"
     ]
    }
   ],
   "source": [
    "# Q8. Write a program using if, else, and elif to check if a number is positive, negative, or zero.\n",
    "\n",
    "\n",
    "num = float(input(\"Enter a number: \"))\n",
    "\n",
    "if num > 0:\n",
    "    print(\"The number is positive.\")\n",
    "elif num < 0:\n",
    "    print(\"The number is negative.\")\n",
    "else:\n",
    "    print(\"The number is zero.\")\n",
    "    "
   ]
  },
  {
   "cell_type": "markdown",
   "id": "ad31e244",
   "metadata": {},
   "source": [
    "Q9. Identify the keyword in this code:\n",
    "\n",
    "      def greet ():\n",
    "\n",
    "      print (\"Hello World\")\n",
    "\n",
    "The keyword in this code is def. It is used to define a function in Python.      \n"
   ]
  },
  {
   "cell_type": "code",
   "execution_count": 5,
   "id": "39a18353",
   "metadata": {},
   "outputs": [
    {
     "name": "stdout",
     "output_type": "stream",
     "text": [
      "Welcome, user!\n"
     ]
    }
   ],
   "source": [
    "# Q10. Write a Python program that uses the True and False keywords in a condition.\n",
    "\n",
    "is_logged_in = True\n",
    "\n",
    "if is_logged_in == True:\n",
    "    print(\"Welcome, user!\")\n",
    "else:\n",
    "    print(\"Please log in.\")\n"
   ]
  },
  {
   "cell_type": "code",
   "execution_count": 6,
   "id": "fbdf4ec0",
   "metadata": {},
   "outputs": [
    {
     "name": "stdout",
     "output_type": "stream",
     "text": [
      "Integer: 42, Float: 3.14, String: 'Hello, World!', Boolean: True, List: [1, 2, 3, 4, 5]\n"
     ]
    }
   ],
   "source": [
    "# Q11. Declare variables of the following types and print them: integer, float, string, boolean, list.\n",
    "\n",
    "integer = 42\n",
    "float = 3.14\n",
    "string = \"Hello, World!\"\n",
    "boolean = True\n",
    "list = [1, 2, 3, 4, 5]\n",
    "print(f\"Integer: {integer}, Float: {float}, String: '{string}', Boolean: {boolean}, List: {list}\")\n"
   ]
  },
  {
   "cell_type": "code",
   "execution_count": 7,
   "id": "9f0e5a77",
   "metadata": {},
   "outputs": [
    {
     "name": "stdout",
     "output_type": "stream",
     "text": [
      "8.0 <class 'float'>\n"
     ]
    }
   ],
   "source": [
    "# Q12. What will be the output and data type of this code?\n",
    "\n",
    "x = 5.0 + 3\n",
    "print(x, type(x))"
   ]
  },
  {
   "cell_type": "code",
   "execution_count": 8,
   "id": "1dcb9c33",
   "metadata": {},
   "outputs": [
    {
     "name": "stdout",
     "output_type": "stream",
     "text": [
      "130\n"
     ]
    }
   ],
   "source": [
    "# Q13. Convert the string \"123\" to an integer and perform addition with 7.\n",
    "\n",
    "a = \"123\"\n",
    "b = int(a) + 7\n",
    "print(b)"
   ]
  },
  {
   "cell_type": "code",
   "execution_count": null,
   "id": "dee096e6",
   "metadata": {},
   "outputs": [
    {
     "name": "stdout",
     "output_type": "stream",
     "text": [
      "a = 5, type of a = <class 'int'>\n",
      "Yes, a is an integer.\n"
     ]
    }
   ],
   "source": [
    "# Q14. Create a variable a = 5 and check if it's of type int.\n",
    "\n",
    "a = 5\n",
    "print(f\"a = {a}, type of a = {type(a)}\")\n",
    "\n",
    "\n",
    "# Check if a is an integer\n",
    "if type(a) == int:\n",
    "    print(\"Yes, a is an integer.\")\n",
    "else:\n",
    "    print(\"No, a is not an integer.\")\n"
   ]
  },
  {
   "cell_type": "code",
   "execution_count": 21,
   "id": "3408911b",
   "metadata": {},
   "outputs": [
    {
     "name": "stdout",
     "output_type": "stream",
     "text": [
      "The sum of 3 and 7 is 10, and its type is <class 'int'>.\n"
     ]
    }
   ],
   "source": [
    "# Q15. Write a program to take two numbers as input from the user, add them, and print the result with proper type conversion.\n",
    "\n",
    "a = int(input(\"Enter first number: \"))\n",
    "b = int(input(\"Enter second number: \"))\n",
    "result = a + b\n",
    "print(f\"The sum of {a} and {b} is {result}, and its type is {type(result)}.\")"
   ]
  }
 ],
 "metadata": {
  "kernelspec": {
   "display_name": "Python 3",
   "language": "python",
   "name": "python3"
  },
  "language_info": {
   "codemirror_mode": {
    "name": "ipython",
    "version": 3
   },
   "file_extension": ".py",
   "mimetype": "text/x-python",
   "name": "python",
   "nbconvert_exporter": "python",
   "pygments_lexer": "ipython3",
   "version": "3.13.3"
  }
 },
 "nbformat": 4,
 "nbformat_minor": 5
}
