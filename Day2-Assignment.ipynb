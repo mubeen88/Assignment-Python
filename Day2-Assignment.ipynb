{
 "cells": [
  {
   "cell_type": "code",
   "execution_count": 1,
   "id": "ae17d526",
   "metadata": {},
   "outputs": [
    {
     "name": "stdout",
     "output_type": "stream",
     "text": [
      "Mubeen\n"
     ]
    }
   ],
   "source": [
    "#Q1. Write a Python program to assign your name to a variable and print it.\n",
    "\n",
    "name = \"Mubeen\"\n",
    "print(name)"
   ]
  },
  {
   "cell_type": "code",
   "execution_count": 2,
   "id": "f7e706da",
   "metadata": {},
   "outputs": [
    {
     "name": "stdout",
     "output_type": "stream",
     "text": [
      "a = 10\n",
      "b = 5\n"
     ]
    }
   ],
   "source": [
    "#Q2. Swap the values of two variables a = 5 and b = 10 and print them.\n",
    "\n",
    "a = 5\n",
    "b = 10\n",
    "a, b = b, a\n",
    "\n",
    "print(\"a =\", a)\n",
    "print(\"b =\", b)\n"
   ]
  },
  {
   "cell_type": "code",
   "execution_count": null,
   "id": "ab0e8a47",
   "metadata": {},
   "outputs": [
    {
     "name": "stdout",
     "output_type": "stream",
     "text": [
      "x = 1, y = 2, z = 3\n",
      "1 2 3\n"
     ]
    }
   ],
   "source": [
    "#Q3. Assign values to three variables in a single line and print them.\n",
    "\n",
    "x, y, z = 1, 2, 3\n",
    "print(f\"x = {x}, y = {y}, z = {z}\")\n",
    "print(x, y, z)"
   ]
  },
  {
   "cell_type": "code",
   "execution_count": 6,
   "id": "c2dc6364",
   "metadata": {},
   "outputs": [
    {
     "name": "stdout",
     "output_type": "stream",
     "text": [
      "15\n"
     ]
    }
   ],
   "source": [
    "#Q4. What will be the output of the following code?\n",
    "\n",
    "x = 10\n",
    "y = x + 5\n",
    "print(y)"
   ]
  },
  {
   "cell_type": "code",
   "execution_count": 7,
   "id": "6f307762",
   "metadata": {},
   "outputs": [
    {
     "name": "stdout",
     "output_type": "stream",
     "text": [
      "My name is mubeen and I am 21 years old.\n"
     ]
    }
   ],
   "source": [
    "#Q5. Take a user's name and age as input and print them in a single line using formatted strings.\n",
    "\n",
    "name = input(\"Enter your Name: \")\n",
    "age = input(\"Enter your Age: \")\n",
    "print(f\"My name is {name} and I am {age} years old.\")\n"
   ]
  }
 ],
 "metadata": {
  "kernelspec": {
   "display_name": "Python 3",
   "language": "python",
   "name": "python3"
  },
  "language_info": {
   "codemirror_mode": {
    "name": "ipython",
    "version": 3
   },
   "file_extension": ".py",
   "mimetype": "text/x-python",
   "name": "python",
   "nbconvert_exporter": "python",
   "pygments_lexer": "ipython3",
   "version": "3.13.3"
  }
 },
 "nbformat": 4,
 "nbformat_minor": 5
}
