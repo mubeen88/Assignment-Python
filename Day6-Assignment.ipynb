{
 "cells": [
  {
   "cell_type": "code",
   "execution_count": null,
   "id": "1fb4c1cb",
   "metadata": {},
   "outputs": [],
   "source": [
    "# Q1. Write a Python program to create a list of 5 integers and print the list.\n",
    "num = [10, 20, 30, 40, 50]\n",
    "print(num)\n"
   ]
  },
  {
   "cell_type": "code",
   "execution_count": null,
   "id": "f3cfd307",
   "metadata": {},
   "outputs": [],
   "source": [
    "# Q2. Write a Python function that takes a list of numbers and returns the maximum value.\n",
    "\n",
    "def find_max(nums):\n",
    "    return max(nums)\n",
    "print(find_max([4, 9, 1, 22, 7]))\n"
   ]
  },
  {
   "cell_type": "code",
   "execution_count": null,
   "id": "f6d75aaf",
   "metadata": {},
   "outputs": [],
   "source": [
    "# Q3. Create a list of fruits and print the second and last elements.\n",
    "\n",
    "fruits = ['apple', 'banana', 'cherry', 'date', 'elderberry']\n",
    "print(fruits[1])  # Second element\n",
    "print(fruits[-1]) # Last element\n"
   ]
  },
  {
   "cell_type": "code",
   "execution_count": null,
   "id": "3a3475f6",
   "metadata": {},
   "outputs": [],
   "source": [
    "# Q4. Write a program to remove all duplicates from a list.\n",
    "\n",
    "def remove_duplicates(lst):\n",
    "    return list(set(lst))\n",
    "print(remove_duplicates([1, 2, 2, 3, 4, 4, 5]))\n"
   ]
  },
  {
   "cell_type": "code",
   "execution_count": null,
   "id": "cd91d415",
   "metadata": {},
   "outputs": [],
   "source": [
    "# Q5. Write a Python program to find the sum and average of elements in a list.\n",
    "\n",
    "nums = [10, 20, 30, 40]\n",
    "total = sum(nums)\n",
    "average = total / len(nums)\n",
    "print(\"Sum:\", total, \"Average:\", average)\n"
   ]
  },
  {
   "cell_type": "code",
   "execution_count": null,
   "id": "a55256b4",
   "metadata": {},
   "outputs": [],
   "source": [
    "# Q6. Given a list of numbers, write a program to square each number and store the result in a new list.\n",
    "\n",
    "nums = [1, 2, 3, 4]\n",
    "squares = [x**2 for x in nums]\n",
    "print(squares)\n"
   ]
  },
  {
   "cell_type": "code",
   "execution_count": null,
   "id": "d6e92680",
   "metadata": {},
   "outputs": [],
   "source": [
    "# Q7. Write a program to reverse a list without using built-in reverse() function.\n",
    "\n",
    "nums = [1, 2, 3, 4, 5]\n",
    "reversed_list = nums[::-1]\n",
    "print(reversed_list)\n"
   ]
  },
  {
   "cell_type": "code",
   "execution_count": 1,
   "id": "c5cb04f5",
   "metadata": {},
   "outputs": [
    {
     "name": "stdout",
     "output_type": "stream",
     "text": [
      "True\n",
      "False\n"
     ]
    }
   ],
   "source": [
    "# Q8. Check whether a specific item exists in a list or not.\n",
    "\n",
    "fruits = [\"apple\", \"banana\", \"cherry\"]\n",
    "print(\"banana\" in fruits)  # True\n",
    "print(\"grape\" in fruits)   # False"
   ]
  },
  {
   "cell_type": "code",
   "execution_count": null,
   "id": "387ecaa5",
   "metadata": {},
   "outputs": [],
   "source": [
    "# Q9. Create a tuple with 6 elements. Print the first, third, and last element.\n",
    "\n",
    "t = (10, 20, 30, 40, 50, 60)\n",
    "print(\"First:\", t[0])\n",
    "print(\"Third:\", t[2])\n",
    "print(\"Last:\", t[-1])\n"
   ]
  },
  {
   "cell_type": "code",
   "execution_count": null,
   "id": "c4f87e73",
   "metadata": {},
   "outputs": [],
   "source": [
    "# Q10. Write a Python program to convert a list into a tuple.\n",
    "\n",
    "lst = [1, 2, 3, 4]\n",
    "tup = tuple(lst)\n",
    "print(tup)\n"
   ]
  },
  {
   "cell_type": "code",
   "execution_count": null,
   "id": "2a353d2b",
   "metadata": {},
   "outputs": [
    {
     "name": "stdout",
     "output_type": "stream",
     "text": [
      "2 appears 3 times in the tuple.\n"
     ]
    }
   ],
   "source": [
    "# Q11. Write a program to count how many times an item appears in a tuple.\n",
    "\n",
    "t = (1, 2, 3, 2, 4, 2, 5)\n",
    "print(t.count(2))"
   ]
  },
  {
   "cell_type": "code",
   "execution_count": null,
   "id": "02f9f9e7",
   "metadata": {},
   "outputs": [],
   "source": [
    "# Q12. Given a tuple of numbers, write a program to find the minimum and maximum values.\n",
    "\n",
    "t = (5, 1, 9, 2, 7)\n",
    "print(\"Min:\", min(t))\n",
    "print(\"Max:\", max(t))\n"
   ]
  },
  {
   "cell_type": "code",
   "execution_count": null,
   "id": "c156c694",
   "metadata": {},
   "outputs": [],
   "source": [
    "# Q13. Create a tuple of student names. Try modifying one element and observe the error.\n",
    "\n",
    "students = (\"Ali\", \"Sara\", \"Ahmed\", \"Zara\", \"Bilal\")\n",
    "print(\"Original tuple:\", students)\n",
    "\n",
    "students[2] = \"Hassan\"\n"
   ]
  },
  {
   "cell_type": "code",
   "execution_count": null,
   "id": "a3aa2209",
   "metadata": {},
   "outputs": [],
   "source": [
    "# Q14. Write a program that merges two lists into one and removes duplicates.\n",
    "\n",
    "a = [1, 2, 3]\n",
    "b = [2, 3, 4]\n",
    "merged = list(set(a + b))\n",
    "print(merged)\n"
   ]
  },
  {
   "cell_type": "code",
   "execution_count": null,
   "id": "5be38956",
   "metadata": {},
   "outputs": [],
   "source": [
    "# Q15. Given a list of numbers, write a program to find the second largest number.\n",
    "nums = [10, 20, 30, 20, 10]\n",
    "unique = list(set(nums))\n",
    "unique.sort()\n",
    "print(\"Second largest:\", unique[-2])\n"
   ]
  }
 ],
 "metadata": {
  "kernelspec": {
   "display_name": "Python 3",
   "language": "python",
   "name": "python3"
  },
  "language_info": {
   "codemirror_mode": {
    "name": "ipython",
    "version": 3
   },
   "file_extension": ".py",
   "mimetype": "text/x-python",
   "name": "python",
   "nbconvert_exporter": "python",
   "pygments_lexer": "ipython3",
   "version": "3.13.3"
  }
 },
 "nbformat": 4,
 "nbformat_minor": 5
}
