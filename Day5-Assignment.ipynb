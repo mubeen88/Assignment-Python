{
 "cells": [
  {
   "cell_type": "code",
   "execution_count": 1,
   "id": "c953d6c9",
   "metadata": {},
   "outputs": [
    {
     "name": "stdout",
     "output_type": "stream",
     "text": [
      "1\n",
      "2\n",
      "3\n",
      "4\n",
      "5\n",
      "6\n",
      "7\n",
      "8\n",
      "9\n",
      "10\n"
     ]
    }
   ],
   "source": [
    "# 1. Write a program using a for loop and range() to print numbers from 1 to 10.\n",
    "\n",
    "\n",
    "for i in range(1, 11):\n",
    "    print(i)\n"
   ]
  },
  {
   "cell_type": "code",
   "execution_count": null,
   "id": "c66d9238",
   "metadata": {},
   "outputs": [],
   "source": [
    "# 2. Write a program using a while loop to print the first 10 natural numbers.\n",
    "\n",
    "count = 1\n",
    "while count <= 10:\n",
    "    print(count)\n",
    "    count += 1\n",
    "    "
   ]
  },
  {
   "cell_type": "code",
   "execution_count": 2,
   "id": "1457397c",
   "metadata": {},
   "outputs": [
    {
     "name": "stdout",
     "output_type": "stream",
     "text": [
      "2\n",
      "4\n",
      "6\n",
      "8\n",
      "10\n",
      "12\n",
      "14\n",
      "16\n",
      "18\n",
      "20\n",
      "22\n",
      "24\n",
      "26\n",
      "28\n",
      "30\n",
      "32\n",
      "34\n",
      "36\n",
      "38\n",
      "40\n",
      "42\n",
      "44\n",
      "46\n",
      "48\n",
      "50\n"
     ]
    }
   ],
   "source": [
    "# 3. Print all even numbers between 1 and 50 using a for loop and range().\n",
    "\n",
    "for i in range(2, 51, 2):\n",
    "    print(i)\n"
   ]
  },
  {
   "cell_type": "code",
   "execution_count": null,
   "id": "1ef15a74",
   "metadata": {},
   "outputs": [],
   "source": [
    "# 4. Print the sum of numbers from 1 to 100 using a for loop.\n",
    "\n",
    "total_sum = 0\n",
    "for i in range(1, 101):\n",
    "    total_sum += i\n",
    "print(\"Sum from 1 to 100 is:\", total_sum)"
   ]
  },
  {
   "cell_type": "code",
   "execution_count": null,
   "id": "4f2c83b2",
   "metadata": {},
   "outputs": [],
   "source": [
    "# 5. Use a while loop to calculate the factorial of a number entered by the user.\n",
    "\n",
    "\n",
    "num = int(input(\"Enter a number: \"))\n",
    "factorial = 1\n",
    "i = 1\n",
    "\n",
    "while i <= num:\n",
    "    factorial *= i\n",
    "    i += 1           \n",
    "\n",
    "print(\"Factorial of\", num, \"is:\", factorial)\n"
   ]
  },
  {
   "cell_type": "code",
   "execution_count": null,
   "id": "e0ce6290",
   "metadata": {},
   "outputs": [],
   "source": [
    "# Print the following pattern using a for loop:\n",
    "# *  \n",
    "# **  \n",
    "# ***  \n",
    "# ****  \n",
    "# *****\n",
    "\n",
    "rows = 5\n",
    "for i in range(1, rows + 1):\n",
    "    for j in range(i):\n",
    "        print(\"*\", end=\"\")\n",
    "    print()\n",
    "    "
   ]
  },
  {
   "cell_type": "code",
   "execution_count": 3,
   "id": "6eac4fb2",
   "metadata": {},
   "outputs": [
    {
     "name": "stdout",
     "output_type": "stream",
     "text": [
      "1\n",
      "12\n",
      "123\n",
      "1234\n",
      "12345\n"
     ]
    }
   ],
   "source": [
    "    # 7. Print this pattern using nested for loops:\n",
    "    # 1  \n",
    "    # 12  \n",
    "    # 123  \n",
    "    # 1234  \n",
    "    # 12345\n",
    "\n",
    "rows = 5\n",
    "for i in range(1, rows + 1):\n",
    "    for j in range(1, i + 1):\n",
    "        print(j, end=\"\")\n",
    "    print() "
   ]
  },
  {
   "cell_type": "code",
   "execution_count": null,
   "id": "8b71f1d3",
   "metadata": {},
   "outputs": [],
   "source": [
    "# 8. Create a loop pattern of stars in reverse:\n",
    "# *****  \n",
    "# ****  \n",
    "# ***  \n",
    "# **  \n",
    "# *\n",
    "\n",
    "rows = 5\n",
    "for i in range(rows, 0, -1):\n",
    "    for j in range(i):\n",
    "        print(\"*\", end=\"\")\n",
    "    print()"
   ]
  },
  {
   "cell_type": "code",
   "execution_count": null,
   "id": "d4bad971",
   "metadata": {},
   "outputs": [],
   "source": [
    "# 9. Write a for loop to print the multiplication table of any number entered by the user.\n",
    "\n",
    "num = int(input(\"Enter a number to print its multiplication table: \"))\n",
    "for i in range(1, 11):\n",
    "    print(f\"{num} x {i} = {num * i}\")\n",
    "    "
   ]
  },
  {
   "cell_type": "code",
   "execution_count": null,
   "id": "cd83a016",
   "metadata": {},
   "outputs": [
    {
     "name": "stdout",
     "output_type": "stream",
     "text": [
      "Digits in reverse order:\n"
     ]
    }
   ],
   "source": [
    "# 10. Use a while loop to print the digits of a number in reverse order (e.g., 1234 → 4 3 2 1).\n",
    "\n",
    "number = int(input(\"Enter a number: \"))\n",
    "while number > 0:\n",
    "    digit = number % 10\n",
    "    print(digit, end=\" \")\n",
    "    number //= 10\n",
    "    "
   ]
  },
  {
   "cell_type": "code",
   "execution_count": null,
   "id": "5925aea7",
   "metadata": {},
   "outputs": [],
   "source": [
    "# 11. Print all prime numbers between 1 and 100 using a loop.\n",
    "\n",
    "for num in range(2, 101):\n",
    "    is_prime = True\n",
    "    for i in range(2, int(num**0.5) + 1):\n",
    "        if num % i == 0:\n",
    "            is_prime = False\n",
    "            break\n",
    "    if is_prime:\n",
    "        print(num)"
   ]
  },
  {
   "cell_type": "code",
   "execution_count": null,
   "id": "e5d57701",
   "metadata": {},
   "outputs": [],
   "source": [
    "# 12. Ask the user for a number and use a loop to check if it is a palindrome number.\n",
    "\n",
    "number = int(input(\"Enter a number: \"))\n",
    "original_number = number\n",
    "reversed_number = 0\n",
    "while number > 0:\n",
    "    digit = number % 10\n",
    "    reversed_number = reversed_number * 10 + digit\n",
    "    number //= 10\n",
    "if original_number == reversed_number:\n",
    "    print(f\"{original_number} is a palindrome number.\")\n",
    "else:\n",
    "    print(f\"{original_number} is not a palindrome number.\")\n",
    "\n",
    "    "
   ]
  },
  {
   "cell_type": "code",
   "execution_count": null,
   "id": "9dd9942d",
   "metadata": {},
   "outputs": [],
   "source": [
    "# 13. Print the Fibonacci sequence up to 10 terms using a loop.\n",
    "\n",
    "\n",
    "n = 10 \n",
    "a, b = 0, 1\n",
    "\n",
    "print(\"Fibonacci sequence up to\", n, \"terms:\")\n",
    "\n",
    "for i in range(n):\n",
    "    print(a, end=\" \")\n",
    "    a, b = b, a + b     \n",
    "\n"
   ]
  },
  {
   "cell_type": "code",
   "execution_count": null,
   "id": "24fecaec",
   "metadata": {},
   "outputs": [],
   "source": [
    "# 14. Count how many digits are in an integer entered by the user using a while loop.\n",
    "\n",
    "n = int(input(\"Enter a number: \"))\n",
    "count = 0\n",
    "while n > 0:\n",
    "    count += 1\n",
    "    n = n // 10\n",
    "print(\"Total digits:\", count)\n"
   ]
  },
  {
   "cell_type": "code",
   "execution_count": null,
   "id": "516ecfd1",
   "metadata": {},
   "outputs": [],
   "source": [
    "# 15. Print a pattern of numbers in triangle form:\n",
    "# 1  \n",
    "# 2 3  \n",
    "# 4 5 6  \n",
    "# 7 8 9 10\n",
    "\n",
    "rows = 4\n",
    "num = 1\n",
    "for i in range(1, rows + 1):\n",
    "    for j in range(i):\n",
    "        print(num, end=\" \")\n",
    "        num += 1\n",
    "    print()"
   ]
  }
 ],
 "metadata": {
  "kernelspec": {
   "display_name": "Python 3",
   "language": "python",
   "name": "python3"
  },
  "language_info": {
   "codemirror_mode": {
    "name": "ipython",
    "version": 3
   },
   "file_extension": ".py",
   "mimetype": "text/x-python",
   "name": "python",
   "nbconvert_exporter": "python",
   "pygments_lexer": "ipython3",
   "version": "3.13.3"
  }
 },
 "nbformat": 4,
 "nbformat_minor": 5
}
